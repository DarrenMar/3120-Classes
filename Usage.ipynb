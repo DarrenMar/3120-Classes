{
 "cells": [
  {
   "cell_type": "code",
   "execution_count": 5,
   "id": "6b88b4bc-a5c4-436d-9eed-8e95600f6d53",
   "metadata": {
    "editable": true,
    "slideshow": {
     "slide_type": ""
    },
    "tags": []
   },
   "outputs": [],
   "source": [
    "from Animal import Animal"
   ]
  },
  {
   "cell_type": "code",
   "execution_count": 7,
   "id": "738a52e3-faf1-4f92-8835-fed5b5e36dfe",
   "metadata": {
    "editable": true,
    "slideshow": {
     "slide_type": ""
    },
    "tags": []
   },
   "outputs": [
    {
     "name": "stdout",
     "output_type": "stream",
     "text": [
      "hello, I am Lion\n",
      "I also go by Lion\n",
      "My skin color is Brown\n",
      "I run very Fast\n"
      "hello, I am Joe\n",
      "I am full of energy now\n",
      "I have 100 stamina now.\n"
     ]
    }
   ],
   "source": [
    "x = Animal(\"Lion\", \"Brown\", \"Fast\")\n",
    "x.talk()\n",
    "x.color()\n",
    "x.run()"
    "x = Animal(\"Joe\")\n",
    "x.sleep()\n"
   ]
  },
  {
   "cell_type": "code",
   "execution_count": null,
   "id": "4139cc6e-d5fa-4624-8679-207c2d93dfeb",
   "metadata": {},
   "outputs": [],
   "source": []
  },
  {
   "cell_type": "code",
   "execution_count": null,
   "id": "4de33cdd-22e3-4909-8ce7-753239bb0c53",
   "metadata": {},
   "outputs": [],
   "source": []
  }
 ],
 "metadata": {
  "kernelspec": {
   "display_name": "Python 3 (ipykernel)",
   "language": "python",
   "name": "python3"
  },
  "language_info": {
   "codemirror_mode": {
    "name": "ipython",
    "version": 3
   },
   "file_extension": ".py",
   "mimetype": "text/x-python",
   "name": "python",
   "nbconvert_exporter": "python",
   "pygments_lexer": "ipython3",
   "version": "3.12.4"
   "version": "3.12.7"
  }
 },
 "nbformat": 4,
 "nbformat_minor": 5
}
