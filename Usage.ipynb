{
 "cells": [
  {
   "cell_type": "code",
   "execution_count": 10,
   "id": "6b88b4bc-a5c4-436d-9eed-8e95600f6d53",
   "metadata": {
    "editable": true,
    "slideshow": {
     "slide_type": ""
    },
    "tags": []
   },
   "outputs": [],
   "source": [
    "from Animal import Animal"
   ]
  },
  {
   "cell_type": "code",
   "execution_count": 12,
   "id": "738a52e3-faf1-4f92-8835-fed5b5e36dfe",
   "metadata": {
    "editable": true,
    "slideshow": {
     "slide_type": ""
    },
    "tags": []
   },
   "outputs": [
    {
     "name": "stdout",
     "output_type": "stream",
     "text": [
      "Hello, I am Joe and I am a Dog\n",
      "Energy level: 100\n",
      "Woof\n",
      "Joe loves running and jumping\n",
      "Joe plays happily\n",
      "Energy level: 55\n",
      "Joe eats lots of tasty food\n",
      "Energy level: 100\n"
     ]
    }
   ],
   "source": [
    "x = Animal(\"Joe\",\"Dog\")\n",
    "x.talk(\"Woof\")\n",
    "x.love(\"running\",\"jumping\")\n",
    "x.play()\n",
    "x.food()"
   ]
  }
 ],
 "metadata": {
  "kernelspec": {
   "display_name": "Python [conda env:base] *",
   "language": "python",
   "name": "conda-base-py"
  },
  "language_info": {
   "codemirror_mode": {
    "name": "ipython",
    "version": 3
   },
   "file_extension": ".py",
   "mimetype": "text/x-python",
   "name": "python",
   "nbconvert_exporter": "python",
   "pygments_lexer": "ipython3",
   "version": "3.12.7"
  }
 },
 "nbformat": 4,
 "nbformat_minor": 5
}
